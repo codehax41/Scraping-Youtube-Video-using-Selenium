{
 "cells": [
  {
   "cell_type": "code",
   "execution_count": 350,
   "metadata": {},
   "outputs": [],
   "source": [
    "import numpy as np\n",
    "import math\n",
    "import seaborn as sns\n",
    "from sklearn import svm\n",
    "import matplotlib.pyplot as plt\n",
    "import pandas as pd\n",
    "from sklearn.model_selection import train_test_split\n",
    "from sklearn.preprocessing import StandardScaler\n",
    "from sklearn.model_selection import *\n",
    "from sklearn.preprocessing import MinMaxScaler\n",
    "from sklearn import linear_model\n",
    "from sklearn.metrics import *"
   ]
  },
  {
   "cell_type": "markdown",
   "metadata": {},
   "source": [
    "# Loading the dataset "
   ]
  },
  {
   "cell_type": "code",
   "execution_count": 229,
   "metadata": {},
   "outputs": [],
   "source": [
    "dataset = pd.read_csv('scraped_yt.csv')"
   ]
  },
  {
   "cell_type": "markdown",
   "metadata": {},
   "source": [
    "# Getting all the features separately "
   ]
  },
  {
   "cell_type": "code",
   "execution_count": null,
   "metadata": {},
   "outputs": [],
   "source": [
    "df_link = dataset['links']\n",
    "df_title = dataset['title']\n",
    "df_description = dataset['description']\n",
    "df_category = dataset['category']"
   ]
  },
  {
   "cell_type": "markdown",
   "metadata": {},
   "source": [
    "# Importing liberaries for data cleaning "
   ]
  },
  {
   "cell_type": "code",
   "execution_count": 232,
   "metadata": {},
   "outputs": [
    {
     "name": "stderr",
     "output_type": "stream",
     "text": [
      "[nltk_data] Downloading package stopwords to\n",
      "[nltk_data]     /home/shubhamsingh/nltk_data...\n",
      "[nltk_data]   Package stopwords is already up-to-date!\n"
     ]
    }
   ],
   "source": [
    "import re\n",
    "import nltk\n",
    "nltk.download('stopwords')\n",
    "from nltk.corpus import stopwords\n",
    "from nltk.stem.porter import PorterStemmer"
   ]
  },
  {
   "cell_type": "markdown",
   "metadata": {},
   "source": [
    "# Cleaning the data and storing it into a list "
   ]
  },
  {
   "cell_type": "code",
   "execution_count": 233,
   "metadata": {},
   "outputs": [],
   "source": [
    "# Cleaning the text data; in my experiemnted, i worked on only 1000 observations (reviews)\n",
    "corpus = []\n",
    "for i in range(0, 8375):\n",
    "    review = re.sub('[^a-zA-Z]', ' ', df_title['title'][i])\n",
    "    review = review.lower()\n",
    "    review = review.split()\n",
    "    ps = PorterStemmer()\n",
    "    review = [ps.stem(word) for word in review if not word in set(stopwords.words('english'))]\n",
    "    review = ' '.join(review)\n",
    "    corpus.append(review)"
   ]
  },
  {
   "cell_type": "code",
   "execution_count": 234,
   "metadata": {},
   "outputs": [],
   "source": [
    "corpus1 = []\n",
    "for i in range(0, 8375):\n",
    "    review = re.sub('[^a-zA-Z]', ' ', df_description['description'][i])\n",
    "    review = review.lower()\n",
    "    review = review.split()\n",
    "    ps = PorterStemmer()\n",
    "    review = [ps.stem(word) for word in review if not word in set(stopwords.words('english'))]\n",
    "    review = ' '.join(review)\n",
    "    corpus1.append(review)"
   ]
  },
  {
   "cell_type": "markdown",
   "metadata": {},
   "source": [
    "# Creating dataframes from the lists "
   ]
  },
  {
   "cell_type": "code",
   "execution_count": 237,
   "metadata": {},
   "outputs": [],
   "source": [
    "dftitle = pd.DataFrame({'title':corpus})\n",
    "dfdescription = pd.DataFrame({'description':corpus1})"
   ]
  },
  {
   "cell_type": "markdown",
   "metadata": {},
   "source": [
    "# Performing label encoding on the category feature"
   ]
  },
  {
   "cell_type": "code",
   "execution_count": 355,
   "metadata": {},
   "outputs": [],
   "source": [
    "from sklearn.preprocessing import LabelEncoder "
   ]
  },
  {
   "cell_type": "code",
   "execution_count": 247,
   "metadata": {},
   "outputs": [],
   "source": [
    "dfcategory1 = dfcategory.apply(LabelEncoder().fit_transform)"
   ]
  },
  {
   "cell_type": "markdown",
   "metadata": {},
   "source": [
    "# Creating a new dataset after cleaning the data and label encoding the categories"
   ]
  },
  {
   "cell_type": "code",
   "execution_count": 294,
   "metadata": {},
   "outputs": [],
   "source": [
    "df_new = pd.concat([dflink, dftitle, dfdescription, dfcategory1], axis=1, join_axes=[dflink.index])"
   ]
  },
  {
   "cell_type": "code",
   "execution_count": 296,
   "metadata": {},
   "outputs": [],
   "source": [
    "df_new.to_csv(\"scraped_yt.csv\", encoding='utf-8', index=False)"
   ]
  },
  {
   "cell_type": "code",
   "execution_count": 295,
   "metadata": {
    "scrolled": true
   },
   "outputs": [
    {
     "data": {
      "text/html": [
       "<div>\n",
       "<style scoped>\n",
       "    .dataframe tbody tr th:only-of-type {\n",
       "        vertical-align: middle;\n",
       "    }\n",
       "\n",
       "    .dataframe tbody tr th {\n",
       "        vertical-align: top;\n",
       "    }\n",
       "\n",
       "    .dataframe thead th {\n",
       "        text-align: right;\n",
       "    }\n",
       "</style>\n",
       "<table border=\"1\" class=\"dataframe\">\n",
       "  <thead>\n",
       "    <tr style=\"text-align: right;\">\n",
       "      <th></th>\n",
       "      <th>links</th>\n",
       "      <th>title</th>\n",
       "      <th>description</th>\n",
       "      <th>category</th>\n",
       "    </tr>\n",
       "  </thead>\n",
       "  <tbody>\n",
       "    <tr>\n",
       "      <th>0</th>\n",
       "      <td>6bBQ3pd0YU8</td>\n",
       "      <td>american tap danc orchestra strike train chore...</td>\n",
       "      <td>atdo perform strike train joyc theater nyc cho...</td>\n",
       "      <td>0</td>\n",
       "    </tr>\n",
       "    <tr>\n",
       "      <th>1</th>\n",
       "      <td>JLU0c0mmvxg</td>\n",
       "      <td>robonaut space station nasa space scienc hd video</td>\n",
       "      <td>visit websit http www junglejoel com robonaut ...</td>\n",
       "      <td>4</td>\n",
       "    </tr>\n",
       "    <tr>\n",
       "      <th>2</th>\n",
       "      <td>IojqhtUwz50</td>\n",
       "      <td>european spacecraft pass key reentri test esa ...</td>\n",
       "      <td>visit websit http www junglejoel com european ...</td>\n",
       "      <td>4</td>\n",
       "    </tr>\n",
       "    <tr>\n",
       "      <th>3</th>\n",
       "      <td>-zgGVyADnFE</td>\n",
       "      <td>jordan bouri frontrow world danc franc qualifi</td>\n",
       "      <td>first perform world danc</td>\n",
       "      <td>0</td>\n",
       "    </tr>\n",
       "    <tr>\n",
       "      <th>4</th>\n",
       "      <td>ZZXWS0n0MCA</td>\n",
       "      <td>scienc univers space satellit hindi</td>\n",
       "      <td>hello bodhaguru learn proudli present anim vid...</td>\n",
       "      <td>4</td>\n",
       "    </tr>\n",
       "    <tr>\n",
       "      <th>5</th>\n",
       "      <td>Hz029D4wn1I</td>\n",
       "      <td>hot young star creat bright red nebula eso spa...</td>\n",
       "      <td>space news info http www coconutsciencelab com...</td>\n",
       "      <td>4</td>\n",
       "    </tr>\n",
       "    <tr>\n",
       "      <th>6</th>\n",
       "      <td>0jnuiRot6d0</td>\n",
       "      <td>aaja ko bigyaan episod school astronomi</td>\n",
       "      <td>space scienc technolog</td>\n",
       "      <td>4</td>\n",
       "    </tr>\n",
       "    <tr>\n",
       "      <th>7</th>\n",
       "      <td>FgBhMVgLtg</td>\n",
       "      <td>danc african danc zehil rugaro nekutamba happi</td>\n",
       "      <td>etienn cakpo guest perform profession dancer c...</td>\n",
       "      <td>0</td>\n",
       "    </tr>\n",
       "    <tr>\n",
       "      <th>8</th>\n",
       "      <td>0o90mJe21H</td>\n",
       "      <td>tip travel india</td>\n",
       "      <td>india massiv countri overwhelm plan trip spend...</td>\n",
       "      <td>5</td>\n",
       "    </tr>\n",
       "    <tr>\n",
       "      <th>9</th>\n",
       "      <td>PB3E_C1608k</td>\n",
       "      <td>korean food buffet eat</td>\n",
       "      <td>travel korea choic food overwhelm want tri eve...</td>\n",
       "      <td>1</td>\n",
       "    </tr>\n",
       "    <tr>\n",
       "      <th>10</th>\n",
       "      <td>2qwCB42_C1I</td>\n",
       "      <td>spacecraft take pictur planet nasa space scien...</td>\n",
       "      <td>visit websit http www junglejoel com video des...</td>\n",
       "      <td>4</td>\n",
       "    </tr>\n",
       "    <tr>\n",
       "      <th>11</th>\n",
       "      <td>Ev1gpq51ntg</td>\n",
       "      <td>nagareyama</td>\n",
       "      <td>love travel japan</td>\n",
       "      <td>5</td>\n",
       "    </tr>\n",
       "    <tr>\n",
       "      <th>12</th>\n",
       "      <td>xJSoETckuBY</td>\n",
       "      <td>heat temperatur physic gk question hindi rrb ntpc</td>\n",
       "      <td>rrb je</td>\n",
       "      <td>4</td>\n",
       "    </tr>\n",
       "    <tr>\n",
       "      <th>13</th>\n",
       "      <td>MnuRX73YSFg</td>\n",
       "      <td>bhimkund waterfal</td>\n",
       "      <td>mayurbhanj</td>\n",
       "      <td>5</td>\n",
       "    </tr>\n",
       "    <tr>\n",
       "      <th>14</th>\n",
       "      <td>YVtElThaNpI</td>\n",
       "      <td>ultim usa food battl fridgecam</td>\n",
       "      <td>episod fridgecam show bring yet anoth ultim ba...</td>\n",
       "      <td>1</td>\n",
       "    </tr>\n",
       "    <tr>\n",
       "      <th>15</th>\n",
       "      <td>lo0X2ZdElQ4</td>\n",
       "      <td>conscious final frontier dada gunamuktananda t...</td>\n",
       "      <td>dada gunamuktananda yogi medit teacher bio dad...</td>\n",
       "      <td>4</td>\n",
       "    </tr>\n",
       "    <tr>\n",
       "      <th>16</th>\n",
       "      <td>8c5YY9DcoiE</td>\n",
       "      <td>profession dancer tri fortnit danc challeng pr...</td>\n",
       "      <td>pick squat kick game credit fortnit epic game ...</td>\n",
       "      <td>0</td>\n",
       "    </tr>\n",
       "    <tr>\n",
       "      <th>17</th>\n",
       "      <td>MXexpBitoFI</td>\n",
       "      <td>black bean noodl</td>\n",
       "      <td>spici rice cake kimbap korean food mukbang eat...</td>\n",
       "      <td>1</td>\n",
       "    </tr>\n",
       "    <tr>\n",
       "      <th>18</th>\n",
       "      <td>UNEi_TeKd5U</td>\n",
       "      <td>india iceland travel k day budget trip</td>\n",
       "      <td>watch budget iceland trip hindi heard peopl sa...</td>\n",
       "      <td>5</td>\n",
       "    </tr>\n",
       "    <tr>\n",
       "      <th>19</th>\n",
       "      <td>Ww5L5cXUjKE</td>\n",
       "      <td>happen earth sun die space scienc documentari</td>\n",
       "      <td>regist facebook happen earth sun die space sci...</td>\n",
       "      <td>4</td>\n",
       "    </tr>\n",
       "    <tr>\n",
       "      <th>20</th>\n",
       "      <td>i5QeyztIIT8</td>\n",
       "      <td>brief histori colorado time geolog colorado</td>\n",
       "      <td>minut movi illustr geolog evolut colorado time...</td>\n",
       "      <td>2</td>\n",
       "    </tr>\n",
       "    <tr>\n",
       "      <th>21</th>\n",
       "      <td>CRJqiMlGLk</td>\n",
       "      <td>highlight night sky novemb astronomi space sci...</td>\n",
       "      <td>space news info http www coconutsciencelab com...</td>\n",
       "      <td>4</td>\n",
       "    </tr>\n",
       "    <tr>\n",
       "      <th>22</th>\n",
       "      <td>EvopK4qTEg</td>\n",
       "      <td>danc india danc season novemb</td>\n",
       "      <td>swarali</td>\n",
       "      <td>0</td>\n",
       "    </tr>\n",
       "    <tr>\n",
       "      <th>23</th>\n",
       "      <td>LTS_VWTE7z</td>\n",
       "      <td>nsd react bt boy w luv danc practic thing didn...</td>\n",
       "      <td>sign patreon ahl run bt bon voyag http www pat...</td>\n",
       "      <td>0</td>\n",
       "    </tr>\n",
       "    <tr>\n",
       "      <th>24</th>\n",
       "      <td>itU6dp5tlA</td>\n",
       "      <td>irish war independ minut</td>\n",
       "      <td>find tumultu time ireland led independ britain...</td>\n",
       "      <td>2</td>\n",
       "    </tr>\n",
       "    <tr>\n",
       "      <th>25</th>\n",
       "      <td>OMmer1JRrvU</td>\n",
       "      <td>danc india asia pacif</td>\n",
       "      <td>danc india asia pacif return singapor third ti...</td>\n",
       "      <td>0</td>\n",
       "    </tr>\n",
       "    <tr>\n",
       "      <th>26</th>\n",
       "      <td>rMiel4nt434</td>\n",
       "      <td>question onsen japan japan travel guid</td>\n",
       "      <td>question onsen japan japan travel guid http ww...</td>\n",
       "      <td>5</td>\n",
       "    </tr>\n",
       "    <tr>\n",
       "      <th>27</th>\n",
       "      <td>IGCVTSQw7WU</td>\n",
       "      <td>brief histori univers crash cours astronomi</td>\n",
       "      <td>thank wonder physic astronom map timelin unive...</td>\n",
       "      <td>2</td>\n",
       "    </tr>\n",
       "    <tr>\n",
       "      <th>28</th>\n",
       "      <td>_XxecflRFKU</td>\n",
       "      <td>indian reaction pakistan tourism summit food t...</td>\n",
       "      <td>join us premium benefit http www youtub com ch...</td>\n",
       "      <td>5</td>\n",
       "    </tr>\n",
       "    <tr>\n",
       "      <th>29</th>\n",
       "      <td>dLkPiY3i1qM</td>\n",
       "      <td>halal korean food singapor eatbook vlog ep</td>\n",
       "      <td>sinc korean dish contain pork may tough muslim...</td>\n",
       "      <td>1</td>\n",
       "    </tr>\n",
       "    <tr>\n",
       "      <th>...</th>\n",
       "      <td>...</td>\n",
       "      <td>...</td>\n",
       "      <td>...</td>\n",
       "      <td>...</td>\n",
       "    </tr>\n",
       "    <tr>\n",
       "      <th>8345</th>\n",
       "      <td>NFN803DvgBQ</td>\n",
       "      <td>travel japan day shibuya knu reunion</td>\n",
       "      <td>spent second day shibuya walk around shop met ...</td>\n",
       "      <td>5</td>\n",
       "    </tr>\n",
       "    <tr>\n",
       "      <th>8346</th>\n",
       "      <td>APC_jD95TH8</td>\n",
       "      <td>top tourist attract state main travel guid usa</td>\n",
       "      <td>http ultramodern home ru top tourist attract s...</td>\n",
       "      <td>5</td>\n",
       "    </tr>\n",
       "    <tr>\n",
       "      <th>8347</th>\n",
       "      <td>YvGDafHwVj</td>\n",
       "      <td>american tri bizarr russian food first time</td>\n",
       "      <td>love pickl check awesom video buzzfeedvideo mu...</td>\n",
       "      <td>1</td>\n",
       "    </tr>\n",
       "    <tr>\n",
       "      <th>8348</th>\n",
       "      <td>_eFZM-fQgdA</td>\n",
       "      <td>porsch boxster sport car manufactur fiber opti...</td>\n",
       "      <td>watch porsch boxster sport car manufactur fibe...</td>\n",
       "      <td>3</td>\n",
       "    </tr>\n",
       "    <tr>\n",
       "      <th>8349</th>\n",
       "      <td>JKm3uzL_A4</td>\n",
       "      <td>wit day asteroid struck jaw drop virtual reali...</td>\n",
       "      <td>asteroidday friday june wit extraordinari jour...</td>\n",
       "      <td>4</td>\n",
       "    </tr>\n",
       "    <tr>\n",
       "      <th>8350</th>\n",
       "      <td>FwFqvOFefqg</td>\n",
       "      <td>auto clinic bust myth women car patric bank te...</td>\n",
       "      <td>find femal mechan becom one patric bank discus...</td>\n",
       "      <td>3</td>\n",
       "    </tr>\n",
       "    <tr>\n",
       "      <th>8351</th>\n",
       "      <td>B14BiB-Bv3</td>\n",
       "      <td>bin process explan ncix tech tip</td>\n",
       "      <td>episod ncix tech tip linu explain bin process ...</td>\n",
       "      <td>3</td>\n",
       "    </tr>\n",
       "    <tr>\n",
       "      <th>8352</th>\n",
       "      <td>BU5t9m5SAiU</td>\n",
       "      <td>travel india delhi</td>\n",
       "      <td>travel india delhi video first hour day india ...</td>\n",
       "      <td>5</td>\n",
       "    </tr>\n",
       "    <tr>\n",
       "      <th>8353</th>\n",
       "      <td>fenZhUxLZrQ</td>\n",
       "      <td>hindi top futur weapon india drdo space scienc</td>\n",
       "      <td>hindi video space scienc told futur project mi...</td>\n",
       "      <td>4</td>\n",
       "    </tr>\n",
       "    <tr>\n",
       "      <th>8354</th>\n",
       "      <td>FD3MPQyEub0</td>\n",
       "      <td>zotac game pax east highlight</td>\n",
       "      <td>watch day pax east game event featur game acti...</td>\n",
       "      <td>3</td>\n",
       "    </tr>\n",
       "    <tr>\n",
       "      <th>8355</th>\n",
       "      <td>SZQWtSgcO4</td>\n",
       "      <td>tip travel japan</td>\n",
       "      <td>watch month long road trip across japan http w...</td>\n",
       "      <td>5</td>\n",
       "    </tr>\n",
       "    <tr>\n",
       "      <th>8356</th>\n",
       "      <td>Wyncg</td>\n",
       "      <td>honest trailer solo star war stori</td>\n",
       "      <td>today episod brought u armi join team make dif...</td>\n",
       "      <td>2</td>\n",
       "    </tr>\n",
       "    <tr>\n",
       "      <th>8357</th>\n",
       "      <td>UNpyF58BY</td>\n",
       "      <td>fourier transform visual introduct</td>\n",
       "      <td>anim introduct fourier transform home page htt...</td>\n",
       "      <td>4</td>\n",
       "    </tr>\n",
       "    <tr>\n",
       "      <th>8358</th>\n",
       "      <td>NBSv_0yHnB0</td>\n",
       "      <td>nyc center space scienc educ</td>\n",
       "      <td>nyc center space scienc educ experienti space ...</td>\n",
       "      <td>4</td>\n",
       "    </tr>\n",
       "    <tr>\n",
       "      <th>8359</th>\n",
       "      <td>YJjL82-KORA</td>\n",
       "      <td>hubbl telescop show spiral black hole power je...</td>\n",
       "      <td>visit websit http www junglejoel com hubbl spa...</td>\n",
       "      <td>4</td>\n",
       "    </tr>\n",
       "    <tr>\n",
       "      <th>8360</th>\n",
       "      <td>0pBm2DjkzaQ</td>\n",
       "      <td>salif lasourc michael jackson danc compil</td>\n",
       "      <td>salif lasourc michael jackson danc compil tag ...</td>\n",
       "      <td>0</td>\n",
       "    </tr>\n",
       "    <tr>\n",
       "      <th>8361</th>\n",
       "      <td>9e6Oi__HGIA</td>\n",
       "      <td>hotel se acha aur ghar ka maza jaipur travel g...</td>\n",
       "      <td>travel paaji show uniqu beauti airbnb properti...</td>\n",
       "      <td>5</td>\n",
       "    </tr>\n",
       "    <tr>\n",
       "      <th>8362</th>\n",
       "      <td>qUz25YgfTgI</td>\n",
       "      <td>korean food seawe soup recip miyeokguk</td>\n",
       "      <td>healthi comfort soup multi task nourish stapl ...</td>\n",
       "      <td>1</td>\n",
       "    </tr>\n",
       "    <tr>\n",
       "      <th>8363</th>\n",
       "      <td>Ov-hREl5wEY</td>\n",
       "      <td>human evolut histori</td>\n",
       "      <td>biolog human histori evolut</td>\n",
       "      <td>2</td>\n",
       "    </tr>\n",
       "    <tr>\n",
       "      <th>8364</th>\n",
       "      <td>RVDidS5Ynk</td>\n",
       "      <td>north indian thali indian food delhi street fo...</td>\n",
       "      <td>super delici thali street delhi india delhi fo...</td>\n",
       "      <td>1</td>\n",
       "    </tr>\n",
       "    <tr>\n",
       "      <th>8365</th>\n",
       "      <td>5-tktFyIz</td>\n",
       "      <td>ballet piec franc</td>\n",
       "      <td>choreograph adi morgan perform adi morgan edit...</td>\n",
       "      <td>0</td>\n",
       "    </tr>\n",
       "    <tr>\n",
       "      <th>8366</th>\n",
       "      <td>jSJhesy2z</td>\n",
       "      <td>travel japan ep vlog departur</td>\n",
       "      <td>hello guy japan probabl favourit place go visi...</td>\n",
       "      <td>5</td>\n",
       "    </tr>\n",
       "    <tr>\n",
       "      <th>8367</th>\n",
       "      <td>0tim0_WzXY</td>\n",
       "      <td>top fifteen femal ballet dancer</td>\n",
       "      <td>list top fifteen favorit femal ballet dancer r...</td>\n",
       "      <td>0</td>\n",
       "    </tr>\n",
       "    <tr>\n",
       "      <th>8368</th>\n",
       "      <td>NSAgLvKOPLQ</td>\n",
       "      <td>model atom timelin</td>\n",
       "      <td>see chemistri video check http socrat org chem...</td>\n",
       "      <td>4</td>\n",
       "    </tr>\n",
       "    <tr>\n",
       "      <th>8369</th>\n",
       "      <td>JzZ4u5XxvFU</td>\n",
       "      <td>probabl find electron beyond bohr radiu hydrog...</td>\n",
       "      <td>solut question chapter quantum physic hc verma</td>\n",
       "      <td>4</td>\n",
       "    </tr>\n",
       "    <tr>\n",
       "      <th>8370</th>\n",
       "      <td>Tohl-nFCug</td>\n",
       "      <td>peni fish korean street food noryangjin fisher...</td>\n",
       "      <td>peni fish krw usd noryangjin fisheri wholesal ...</td>\n",
       "      <td>1</td>\n",
       "    </tr>\n",
       "    <tr>\n",
       "      <th>8371</th>\n",
       "      <td>Fr48ud9Yi</td>\n",
       "      <td>paneer kofta recip hindi indian food made easi</td>\n",
       "      <td>paneer kofta recip hindi indian food made easi...</td>\n",
       "      <td>1</td>\n",
       "    </tr>\n",
       "    <tr>\n",
       "      <th>8372</th>\n",
       "      <td>LEkSQGzYn4E</td>\n",
       "      <td>american danc american ambidextr sbsm school s...</td>\n",
       "      <td>american danc american ambidextr sbsm school s...</td>\n",
       "      <td>0</td>\n",
       "    </tr>\n",
       "    <tr>\n",
       "      <th>8373</th>\n",
       "      <td>8YuKbcHn1Ig</td>\n",
       "      <td>wendymin cook mini korean bbq mini cook</td>\n",
       "      <td>make mini edibl korean bbq use everyth miniatur</td>\n",
       "      <td>1</td>\n",
       "    </tr>\n",
       "    <tr>\n",
       "      <th>8374</th>\n",
       "      <td>J4jRR5r4-A</td>\n",
       "      <td>pawn star star war collect season histori</td>\n",
       "      <td>owner valuabl origin star war figurin throw hi...</td>\n",
       "      <td>2</td>\n",
       "    </tr>\n",
       "  </tbody>\n",
       "</table>\n",
       "<p>8375 rows × 4 columns</p>\n",
       "</div>"
      ],
      "text/plain": [
       "            links                                              title  \\\n",
       "0     6bBQ3pd0YU8  american tap danc orchestra strike train chore...   \n",
       "1     JLU0c0mmvxg  robonaut space station nasa space scienc hd video   \n",
       "2     IojqhtUwz50  european spacecraft pass key reentri test esa ...   \n",
       "3     -zgGVyADnFE     jordan bouri frontrow world danc franc qualifi   \n",
       "4     ZZXWS0n0MCA                scienc univers space satellit hindi   \n",
       "5     Hz029D4wn1I  hot young star creat bright red nebula eso spa...   \n",
       "6     0jnuiRot6d0            aaja ko bigyaan episod school astronomi   \n",
       "7      FgBhMVgLtg     danc african danc zehil rugaro nekutamba happi   \n",
       "8      0o90mJe21H                                   tip travel india   \n",
       "9     PB3E_C1608k                             korean food buffet eat   \n",
       "10    2qwCB42_C1I  spacecraft take pictur planet nasa space scien...   \n",
       "11    Ev1gpq51ntg                                         nagareyama   \n",
       "12    xJSoETckuBY  heat temperatur physic gk question hindi rrb ntpc   \n",
       "13    MnuRX73YSFg                                  bhimkund waterfal   \n",
       "14    YVtElThaNpI                     ultim usa food battl fridgecam   \n",
       "15    lo0X2ZdElQ4  conscious final frontier dada gunamuktananda t...   \n",
       "16    8c5YY9DcoiE  profession dancer tri fortnit danc challeng pr...   \n",
       "17    MXexpBitoFI                                   black bean noodl   \n",
       "18    UNEi_TeKd5U             india iceland travel k day budget trip   \n",
       "19    Ww5L5cXUjKE      happen earth sun die space scienc documentari   \n",
       "20    i5QeyztIIT8        brief histori colorado time geolog colorado   \n",
       "21     CRJqiMlGLk  highlight night sky novemb astronomi space sci...   \n",
       "22     EvopK4qTEg                      danc india danc season novemb   \n",
       "23     LTS_VWTE7z  nsd react bt boy w luv danc practic thing didn...   \n",
       "24     itU6dp5tlA                           irish war independ minut   \n",
       "25    OMmer1JRrvU                              danc india asia pacif   \n",
       "26    rMiel4nt434             question onsen japan japan travel guid   \n",
       "27    IGCVTSQw7WU        brief histori univers crash cours astronomi   \n",
       "28    _XxecflRFKU  indian reaction pakistan tourism summit food t...   \n",
       "29    dLkPiY3i1qM         halal korean food singapor eatbook vlog ep   \n",
       "...           ...                                                ...   \n",
       "8345  NFN803DvgBQ               travel japan day shibuya knu reunion   \n",
       "8346  APC_jD95TH8     top tourist attract state main travel guid usa   \n",
       "8347   YvGDafHwVj        american tri bizarr russian food first time   \n",
       "8348  _eFZM-fQgdA  porsch boxster sport car manufactur fiber opti...   \n",
       "8349   JKm3uzL_A4  wit day asteroid struck jaw drop virtual reali...   \n",
       "8350  FwFqvOFefqg  auto clinic bust myth women car patric bank te...   \n",
       "8351   B14BiB-Bv3                   bin process explan ncix tech tip   \n",
       "8352  BU5t9m5SAiU                                 travel india delhi   \n",
       "8353  fenZhUxLZrQ     hindi top futur weapon india drdo space scienc   \n",
       "8354  FD3MPQyEub0                      zotac game pax east highlight   \n",
       "8355   SZQWtSgcO4                                   tip travel japan   \n",
       "8356        Wyncg                 honest trailer solo star war stori   \n",
       "8357    UNpyF58BY                 fourier transform visual introduct   \n",
       "8358  NBSv_0yHnB0                       nyc center space scienc educ   \n",
       "8359  YJjL82-KORA  hubbl telescop show spiral black hole power je...   \n",
       "8360  0pBm2DjkzaQ          salif lasourc michael jackson danc compil   \n",
       "8361  9e6Oi__HGIA  hotel se acha aur ghar ka maza jaipur travel g...   \n",
       "8362  qUz25YgfTgI             korean food seawe soup recip miyeokguk   \n",
       "8363  Ov-hREl5wEY                               human evolut histori   \n",
       "8364   RVDidS5Ynk  north indian thali indian food delhi street fo...   \n",
       "8365    5-tktFyIz                                  ballet piec franc   \n",
       "8366    jSJhesy2z                      travel japan ep vlog departur   \n",
       "8367   0tim0_WzXY                    top fifteen femal ballet dancer   \n",
       "8368  NSAgLvKOPLQ                                 model atom timelin   \n",
       "8369  JzZ4u5XxvFU  probabl find electron beyond bohr radiu hydrog...   \n",
       "8370   Tohl-nFCug  peni fish korean street food noryangjin fisher...   \n",
       "8371    Fr48ud9Yi     paneer kofta recip hindi indian food made easi   \n",
       "8372  LEkSQGzYn4E  american danc american ambidextr sbsm school s...   \n",
       "8373  8YuKbcHn1Ig            wendymin cook mini korean bbq mini cook   \n",
       "8374   J4jRR5r4-A          pawn star star war collect season histori   \n",
       "\n",
       "                                            description  category  \n",
       "0     atdo perform strike train joyc theater nyc cho...         0  \n",
       "1     visit websit http www junglejoel com robonaut ...         4  \n",
       "2     visit websit http www junglejoel com european ...         4  \n",
       "3                              first perform world danc         0  \n",
       "4     hello bodhaguru learn proudli present anim vid...         4  \n",
       "5     space news info http www coconutsciencelab com...         4  \n",
       "6                                space scienc technolog         4  \n",
       "7     etienn cakpo guest perform profession dancer c...         0  \n",
       "8     india massiv countri overwhelm plan trip spend...         5  \n",
       "9     travel korea choic food overwhelm want tri eve...         1  \n",
       "10    visit websit http www junglejoel com video des...         4  \n",
       "11                                    love travel japan         5  \n",
       "12                                               rrb je         4  \n",
       "13                                           mayurbhanj         5  \n",
       "14    episod fridgecam show bring yet anoth ultim ba...         1  \n",
       "15    dada gunamuktananda yogi medit teacher bio dad...         4  \n",
       "16    pick squat kick game credit fortnit epic game ...         0  \n",
       "17    spici rice cake kimbap korean food mukbang eat...         1  \n",
       "18    watch budget iceland trip hindi heard peopl sa...         5  \n",
       "19    regist facebook happen earth sun die space sci...         4  \n",
       "20    minut movi illustr geolog evolut colorado time...         2  \n",
       "21    space news info http www coconutsciencelab com...         4  \n",
       "22                                              swarali         0  \n",
       "23    sign patreon ahl run bt bon voyag http www pat...         0  \n",
       "24    find tumultu time ireland led independ britain...         2  \n",
       "25    danc india asia pacif return singapor third ti...         0  \n",
       "26    question onsen japan japan travel guid http ww...         5  \n",
       "27    thank wonder physic astronom map timelin unive...         2  \n",
       "28    join us premium benefit http www youtub com ch...         5  \n",
       "29    sinc korean dish contain pork may tough muslim...         1  \n",
       "...                                                 ...       ...  \n",
       "8345  spent second day shibuya walk around shop met ...         5  \n",
       "8346  http ultramodern home ru top tourist attract s...         5  \n",
       "8347  love pickl check awesom video buzzfeedvideo mu...         1  \n",
       "8348  watch porsch boxster sport car manufactur fibe...         3  \n",
       "8349  asteroidday friday june wit extraordinari jour...         4  \n",
       "8350  find femal mechan becom one patric bank discus...         3  \n",
       "8351  episod ncix tech tip linu explain bin process ...         3  \n",
       "8352  travel india delhi video first hour day india ...         5  \n",
       "8353  hindi video space scienc told futur project mi...         4  \n",
       "8354  watch day pax east game event featur game acti...         3  \n",
       "8355  watch month long road trip across japan http w...         5  \n",
       "8356  today episod brought u armi join team make dif...         2  \n",
       "8357  anim introduct fourier transform home page htt...         4  \n",
       "8358  nyc center space scienc educ experienti space ...         4  \n",
       "8359  visit websit http www junglejoel com hubbl spa...         4  \n",
       "8360  salif lasourc michael jackson danc compil tag ...         0  \n",
       "8361  travel paaji show uniqu beauti airbnb properti...         5  \n",
       "8362  healthi comfort soup multi task nourish stapl ...         1  \n",
       "8363                        biolog human histori evolut         2  \n",
       "8364  super delici thali street delhi india delhi fo...         1  \n",
       "8365  choreograph adi morgan perform adi morgan edit...         0  \n",
       "8366  hello guy japan probabl favourit place go visi...         5  \n",
       "8367  list top fifteen favorit femal ballet dancer r...         0  \n",
       "8368  see chemistri video check http socrat org chem...         4  \n",
       "8369     solut question chapter quantum physic hc verma         4  \n",
       "8370  peni fish krw usd noryangjin fisheri wholesal ...         1  \n",
       "8371  paneer kofta recip hindi indian food made easi...         1  \n",
       "8372  american danc american ambidextr sbsm school s...         0  \n",
       "8373    make mini edibl korean bbq use everyth miniatur         1  \n",
       "8374  owner valuabl origin star war figurin throw hi...         2  \n",
       "\n",
       "[8375 rows x 4 columns]"
      ]
     },
     "execution_count": 295,
     "metadata": {},
     "output_type": "execute_result"
    }
   ],
   "source": [
    "df_new"
   ]
  },
  {
   "cell_type": "markdown",
   "metadata": {},
   "source": [
    "# Creating the bag of words model"
   ]
  },
  {
   "cell_type": "code",
   "execution_count": 250,
   "metadata": {},
   "outputs": [],
   "source": [
    "\n",
    "from sklearn.feature_extraction.text import CountVectorizer\n",
    "cv = CountVectorizer(max_features = 1500)\n",
    "X = cv.fit_transform(corpus, corpus1).toarray()\n",
    "y = df_new.iloc[:, 3].values"
   ]
  },
  {
   "cell_type": "markdown",
   "metadata": {},
   "source": [
    "# Splitting the dataset into the Training set and Test set "
   ]
  },
  {
   "cell_type": "code",
   "execution_count": 251,
   "metadata": {},
   "outputs": [],
   "source": [
    "from sklearn.model_selection import train_test_split\n",
    "X_train, X_test, y_train, y_test = train_test_split(X, y, test_size = 0.20, random_state = 0)"
   ]
  },
  {
   "cell_type": "markdown",
   "metadata": {},
   "source": [
    "# Random Forest "
   ]
  },
  {
   "cell_type": "code",
   "execution_count": 462,
   "metadata": {},
   "outputs": [
    {
     "data": {
      "text/plain": [
       "RandomForestClassifier(bootstrap=True, class_weight=None, criterion='entropy',\n",
       "            max_depth=None, max_features='auto', max_leaf_nodes=None,\n",
       "            min_impurity_decrease=0.0, min_impurity_split=None,\n",
       "            min_samples_leaf=1, min_samples_split=2,\n",
       "            min_weight_fraction_leaf=0.0, n_estimators=1000, n_jobs=None,\n",
       "            oob_score=False, random_state=None, verbose=0,\n",
       "            warm_start=False)"
      ]
     },
     "execution_count": 462,
     "metadata": {},
     "output_type": "execute_result"
    }
   ],
   "source": [
    "from sklearn.ensemble import RandomForestClassifier\n",
    "classifier = RandomForestClassifier(n_estimators = 1000, criterion = 'entropy')\n",
    "classifier.fit(X_train, y_train)"
   ]
  },
  {
   "cell_type": "code",
   "execution_count": 463,
   "metadata": {},
   "outputs": [],
   "source": [
    "y_pred = classifier.predict(X_test)"
   ]
  },
  {
   "cell_type": "code",
   "execution_count": 464,
   "metadata": {},
   "outputs": [
    {
     "data": {
      "text/plain": [
       "0.9605970149253731"
      ]
     },
     "execution_count": 464,
     "metadata": {},
     "output_type": "execute_result"
    }
   ],
   "source": [
    "classifier.score(X_test, y_test)"
   ]
  },
  {
   "cell_type": "code",
   "execution_count": 485,
   "metadata": {},
   "outputs": [
    {
     "name": "stdout",
     "output_type": "stream",
     "text": [
      "               precision    recall  f1-score   support\n",
      "\n",
      "  Art & Dance       0.95      0.97      0.96       313\n",
      "         Food       0.96      0.99      0.98       272\n",
      "      History       0.96      0.98      0.97       287\n",
      "Manufacturing       0.95      0.94      0.94       241\n",
      "      Science       0.97      0.94      0.96       289\n",
      "       Travel       0.98      0.93      0.96       273\n",
      "\n",
      "    micro avg       0.96      0.96      0.96      1675\n",
      "    macro avg       0.96      0.96      0.96      1675\n",
      " weighted avg       0.96      0.96      0.96      1675\n",
      "\n"
     ]
    }
   ],
   "source": [
    "print(classification_report(y_test, y_pred))"
   ]
  },
  {
   "cell_type": "code",
   "execution_count": 465,
   "metadata": {},
   "outputs": [],
   "source": [
    "# Making the Confusion Matrix\n",
    "from sklearn.metrics import confusion_matrix\n",
    "cm = confusion_matrix(y_test, y_pred)"
   ]
  },
  {
   "cell_type": "code",
   "execution_count": 466,
   "metadata": {},
   "outputs": [
    {
     "data": {
      "text/plain": [
       "array([[305,   0,   2,   3,   0,   3],\n",
       "       [  0, 269,   0,   1,   0,   2],\n",
       "       [  2,   1, 281,   1,   2,   0],\n",
       "       [  5,   1,   3, 226,   5,   1],\n",
       "       [  6,   0,   6,   4, 273,   0],\n",
       "       [  3,   8,   2,   3,   2, 255]])"
      ]
     },
     "execution_count": 466,
     "metadata": {},
     "output_type": "execute_result"
    }
   ],
   "source": [
    "cm"
   ]
  },
  {
   "cell_type": "markdown",
   "metadata": {},
   "source": [
    "# SVM "
   ]
  },
  {
   "cell_type": "code",
   "execution_count": 467,
   "metadata": {},
   "outputs": [
    {
     "data": {
      "text/plain": [
       "SVC(C=1.0, cache_size=200, class_weight=None, coef0=0.0,\n",
       "  decision_function_shape='ovr', degree=3, gamma='auto_deprecated',\n",
       "  kernel='linear', max_iter=-1, probability=False, random_state=0,\n",
       "  shrinking=True, tol=0.001, verbose=False)"
      ]
     },
     "execution_count": 467,
     "metadata": {},
     "output_type": "execute_result"
    }
   ],
   "source": [
    "from sklearn.svm import SVC\n",
    "classifier1 = SVC(kernel = 'linear', random_state = 0)\n",
    "classifier1.fit(X_train, y_train)"
   ]
  },
  {
   "cell_type": "code",
   "execution_count": 468,
   "metadata": {},
   "outputs": [],
   "source": [
    "y_pred1 = classifier1.predict(X_test)"
   ]
  },
  {
   "cell_type": "code",
   "execution_count": 469,
   "metadata": {},
   "outputs": [
    {
     "data": {
      "text/plain": [
       "0.9564179104477611"
      ]
     },
     "execution_count": 469,
     "metadata": {},
     "output_type": "execute_result"
    }
   ],
   "source": [
    "classifier1.score(X_test, y_test)"
   ]
  },
  {
   "cell_type": "code",
   "execution_count": 470,
   "metadata": {},
   "outputs": [],
   "source": [
    "# Making the Confusion Matrix\n",
    "cm1 = confusion_matrix(y_test, y_pred1)"
   ]
  },
  {
   "cell_type": "code",
   "execution_count": 471,
   "metadata": {},
   "outputs": [
    {
     "data": {
      "text/plain": [
       "array([[301,   0,   4,   6,   0,   2],\n",
       "       [  0, 266,   0,   1,   0,   5],\n",
       "       [  2,   1, 278,   3,   2,   1],\n",
       "       [  0,   1,   4, 229,   4,   3],\n",
       "       [  1,   0,   9,   9, 270,   0],\n",
       "       [  2,   4,   1,   6,   2, 258]])"
      ]
     },
     "execution_count": 471,
     "metadata": {},
     "output_type": "execute_result"
    }
   ],
   "source": [
    "cm1"
   ]
  },
  {
   "cell_type": "markdown",
   "metadata": {},
   "source": [
    "# Naive Bayes "
   ]
  },
  {
   "cell_type": "code",
   "execution_count": 472,
   "metadata": {},
   "outputs": [
    {
     "data": {
      "text/plain": [
       "GaussianNB(priors=None, var_smoothing=1e-09)"
      ]
     },
     "execution_count": 472,
     "metadata": {},
     "output_type": "execute_result"
    }
   ],
   "source": [
    "from sklearn.naive_bayes import GaussianNB\n",
    "classifier2 = GaussianNB()\n",
    "classifier2.fit(X_train, y_train)"
   ]
  },
  {
   "cell_type": "code",
   "execution_count": 473,
   "metadata": {},
   "outputs": [],
   "source": [
    "y_pred2 = classifier2.predict(X_test)"
   ]
  },
  {
   "cell_type": "code",
   "execution_count": 474,
   "metadata": {},
   "outputs": [
    {
     "data": {
      "text/plain": [
       "0.8107462686567164"
      ]
     },
     "execution_count": 474,
     "metadata": {},
     "output_type": "execute_result"
    }
   ],
   "source": [
    "classifier2.score(X_test, y_test)"
   ]
  },
  {
   "cell_type": "code",
   "execution_count": 475,
   "metadata": {},
   "outputs": [],
   "source": [
    "# Making the Confusion Matrix\n",
    "cm2 = confusion_matrix(y_test, y_pred2)"
   ]
  },
  {
   "cell_type": "code",
   "execution_count": 476,
   "metadata": {},
   "outputs": [
    {
     "data": {
      "text/plain": [
       "array([[289,   4,  10,   2,   0,   8],\n",
       "       [  0, 253,   1,   0,   0,  18],\n",
       "       [ 40,   4, 194,  16,  10,  23],\n",
       "       [  1,   7,   4, 219,   4,   6],\n",
       "       [  4,   6,  59,  15, 199,   6],\n",
       "       [  3,  55,   4,   0,   7, 204]])"
      ]
     },
     "execution_count": 476,
     "metadata": {},
     "output_type": "execute_result"
    }
   ],
   "source": [
    "cm2"
   ]
  },
  {
   "cell_type": "markdown",
   "metadata": {},
   "source": [
    "# XGboost "
   ]
  },
  {
   "cell_type": "code",
   "execution_count": 477,
   "metadata": {},
   "outputs": [
    {
     "data": {
      "text/plain": [
       "XGBClassifier(base_score=0.5, booster='gbtree', colsample_bylevel=1,\n",
       "       colsample_bytree=1, gamma=0, learning_rate=0.1, max_delta_step=0,\n",
       "       max_depth=3, min_child_weight=1, missing=None, n_estimators=100,\n",
       "       n_jobs=1, nthread=None, objective='multi:softprob', random_state=0,\n",
       "       reg_alpha=0, reg_lambda=1, scale_pos_weight=1, seed=None,\n",
       "       silent=True, subsample=1)"
      ]
     },
     "execution_count": 477,
     "metadata": {},
     "output_type": "execute_result"
    }
   ],
   "source": [
    "from xgboost import XGBClassifier\n",
    "classifier3 = XGBClassifier()\n",
    "classifier3.fit(X_train, y_train)"
   ]
  },
  {
   "cell_type": "code",
   "execution_count": 293,
   "metadata": {},
   "outputs": [],
   "source": [
    "y_pred3 = classifier3.predict(X_test)"
   ]
  },
  {
   "cell_type": "code",
   "execution_count": 271,
   "metadata": {},
   "outputs": [
    {
     "data": {
      "text/plain": [
       "0.937910447761194"
      ]
     },
     "execution_count": 271,
     "metadata": {},
     "output_type": "execute_result"
    }
   ],
   "source": [
    "classifier3.score(X_test, y_test)"
   ]
  },
  {
   "cell_type": "code",
   "execution_count": 458,
   "metadata": {},
   "outputs": [],
   "source": [
    "# Making the Confusion Matrix\n",
    "cm3 = confusion_matrix(y_test, y_pred3)"
   ]
  },
  {
   "cell_type": "code",
   "execution_count": 459,
   "metadata": {},
   "outputs": [
    {
     "data": {
      "text/plain": [
       "array([[287,   0,   3,  20,   0,   3],\n",
       "       [  0, 264,   1,   4,   0,   3],\n",
       "       [  0,   1, 275,   9,   2,   0],\n",
       "       [  1,   1,   2, 235,   2,   0],\n",
       "       [  0,   0,   3,  28, 258,   0],\n",
       "       [  0,   7,   0,  14,   0, 252]])"
      ]
     },
     "execution_count": 459,
     "metadata": {},
     "output_type": "execute_result"
    }
   ],
   "source": [
    "cm3"
   ]
  }
 ],
 "metadata": {
  "kernelspec": {
   "display_name": "Python 3",
   "language": "python",
   "name": "python3"
  },
  "language_info": {
   "codemirror_mode": {
    "name": "ipython",
    "version": 3
   },
   "file_extension": ".py",
   "mimetype": "text/x-python",
   "name": "python",
   "nbconvert_exporter": "python",
   "pygments_lexer": "ipython3",
   "version": "3.6.5"
  }
 },
 "nbformat": 4,
 "nbformat_minor": 2
}
