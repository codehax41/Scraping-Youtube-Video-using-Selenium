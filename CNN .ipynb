{
 "cells": [
  {
   "cell_type": "code",
   "execution_count": 22,
   "metadata": {
    "colab": {
     "base_uri": "https://localhost:8080/",
     "height": 74,
     "resources": {
      "http://localhost:8080/nbextensions/google.colab/files.js": {
       "data": "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",
       "headers": [
        [
         "content-type",
         "application/javascript"
        ]
       ],
       "ok": true,
       "status": 200,
       "status_text": ""
      }
     }
    },
    "colab_type": "code",
    "id": "TuryOXMI5_32",
    "outputId": "724f4a3d-f02d-436e-86b9-a6224c4a0d0d"
   },
   "outputs": [
    {
     "data": {
      "text/html": [
       "\n",
       "     <input type=\"file\" id=\"files-2492f4ca-b01c-4b7b-a47c-c639409c1fb9\" name=\"files[]\" multiple disabled />\n",
       "     <output id=\"result-2492f4ca-b01c-4b7b-a47c-c639409c1fb9\">\n",
       "      Upload widget is only available when the cell has been executed in the\n",
       "      current browser session. Please rerun this cell to enable.\n",
       "      </output>\n",
       "      <script src=\"/nbextensions/google.colab/files.js\"></script> "
      ],
      "text/plain": [
       "<IPython.core.display.HTML object>"
      ]
     },
     "metadata": {
      "tags": []
     },
     "output_type": "display_data"
    },
    {
     "name": "stdout",
     "output_type": "stream",
     "text": [
      "Saving scraped_yt.csv to scraped_yt (1).csv\n"
     ]
    }
   ],
   "source": [
    "# Run this cell and select the kaggle.json file downloaded\n",
    "# from the Kaggle account settings page.\n",
    "from google.colab import files\n",
    "a=files.upload()"
   ]
  },
  {
   "cell_type": "code",
   "execution_count": 23,
   "metadata": {
    "colab": {
     "base_uri": "https://localhost:8080/",
     "height": 173
    },
    "colab_type": "code",
    "id": "FBZ2P_dq6GKj",
    "outputId": "5ee39a0d-f5b8-49af-a73b-9e4d6bc51f91"
   },
   "outputs": [
    {
     "data": {
      "text/html": [
       "<div>\n",
       "<style scoped>\n",
       "    .dataframe tbody tr th:only-of-type {\n",
       "        vertical-align: middle;\n",
       "    }\n",
       "\n",
       "    .dataframe tbody tr th {\n",
       "        vertical-align: top;\n",
       "    }\n",
       "\n",
       "    .dataframe thead th {\n",
       "        text-align: right;\n",
       "    }\n",
       "</style>\n",
       "<table border=\"1\" class=\"dataframe\">\n",
       "  <thead>\n",
       "    <tr style=\"text-align: right;\">\n",
       "      <th></th>\n",
       "      <th>links</th>\n",
       "      <th>title</th>\n",
       "      <th>description</th>\n",
       "      <th>category</th>\n",
       "    </tr>\n",
       "  </thead>\n",
       "  <tbody>\n",
       "    <tr>\n",
       "      <th>0</th>\n",
       "      <td>6bBQ3pd0YU8</td>\n",
       "      <td>american tap danc orchestra strike train chore...</td>\n",
       "      <td>atdo perform strike train joyc theater nyc cho...</td>\n",
       "      <td>0</td>\n",
       "    </tr>\n",
       "    <tr>\n",
       "      <th>1</th>\n",
       "      <td>JLU0c0mmvxg</td>\n",
       "      <td>robonaut space station nasa space scienc hd video</td>\n",
       "      <td>visit websit http www junglejoel com robonaut ...</td>\n",
       "      <td>4</td>\n",
       "    </tr>\n",
       "    <tr>\n",
       "      <th>2</th>\n",
       "      <td>IojqhtUwz50</td>\n",
       "      <td>european spacecraft pass key reentri test esa ...</td>\n",
       "      <td>visit websit http www junglejoel com european ...</td>\n",
       "      <td>4</td>\n",
       "    </tr>\n",
       "    <tr>\n",
       "      <th>3</th>\n",
       "      <td>-zgGVyADnFE</td>\n",
       "      <td>jordan bouri frontrow world danc franc qualifi</td>\n",
       "      <td>first perform world danc</td>\n",
       "      <td>0</td>\n",
       "    </tr>\n",
       "  </tbody>\n",
       "</table>\n",
       "</div>"
      ],
      "text/plain": [
       "         links  ... category\n",
       "0  6bBQ3pd0YU8  ...        0\n",
       "1  JLU0c0mmvxg  ...        4\n",
       "2  IojqhtUwz50  ...        4\n",
       "3  -zgGVyADnFE  ...        0\n",
       "\n",
       "[4 rows x 4 columns]"
      ]
     },
     "execution_count": 23,
     "metadata": {
      "tags": []
     },
     "output_type": "execute_result"
    }
   ],
   "source": [
    "import pandas as pd\n",
    "datset = pd.read_csv('scraped_yt.csv')\n",
    "datset.head(4)"
   ]
  },
  {
   "cell_type": "code",
   "execution_count": 0,
   "metadata": {
    "colab": {},
    "colab_type": "code",
    "id": "UGaElqfE6Wgf"
   },
   "outputs": [],
   "source": [
    "import numpy as np\n",
    "datset.fillna(method='ffill', inplace=True)"
   ]
  },
  {
   "cell_type": "code",
   "execution_count": 25,
   "metadata": {
    "colab": {
     "base_uri": "https://localhost:8080/",
     "height": 102
    },
    "colab_type": "code",
    "id": "zgAtUfy26ZYM",
    "outputId": "298eb93b-fd7b-455e-d17f-3104bda7db05"
   },
   "outputs": [
    {
     "data": {
      "text/plain": [
       "links          0\n",
       "title          0\n",
       "description    0\n",
       "category       0\n",
       "dtype: int64"
      ]
     },
     "execution_count": 25,
     "metadata": {
      "tags": []
     },
     "output_type": "execute_result"
    }
   ],
   "source": [
    "datset.isnull().sum()"
   ]
  },
  {
   "cell_type": "code",
   "execution_count": 0,
   "metadata": {
    "colab": {},
    "colab_type": "code",
    "id": "ouORuHTD6a1z"
   },
   "outputs": [],
   "source": [
    "from keras.models import Sequential\n",
    "from keras.layers.core import Dense, Dropout, Activation\n",
    "from keras.utils import np_utils\n",
    "from keras.preprocessing.text import Tokenizer\n",
    "from keras import metrics\n",
    "from sklearn.model_selection import train_test_split"
   ]
  },
  {
   "cell_type": "code",
   "execution_count": 27,
   "metadata": {
    "colab": {
     "base_uri": "https://localhost:8080/",
     "height": 34
    },
    "colab_type": "code",
    "id": "crXyb1Br6c05",
    "outputId": "83642075-9ed8-488b-b040-fa2c7edb4108"
   },
   "outputs": [
    {
     "data": {
      "text/plain": [
       "((8375,), (8375,))"
      ]
     },
     "execution_count": 27,
     "metadata": {
      "tags": []
     },
     "output_type": "execute_result"
    }
   ],
   "source": [
    "X = datset['description']\n",
    "y = datset['category']\n",
    "X.shape,y.shape"
   ]
  },
  {
   "cell_type": "code",
   "execution_count": 28,
   "metadata": {
    "colab": {
     "base_uri": "https://localhost:8080/",
     "height": 51
    },
    "colab_type": "code",
    "id": "sHPwKhsA6e41",
    "outputId": "2a39aa4e-17b8-426b-f38c-cb66e7cac917"
   },
   "outputs": [
    {
     "data": {
      "text/plain": [
       "<6281x36339 sparse matrix of type '<class 'numpy.int64'>'\n",
       "\twith 375185 stored elements in Compressed Sparse Row format>"
      ]
     },
     "execution_count": 28,
     "metadata": {
      "tags": []
     },
     "output_type": "execute_result"
    }
   ],
   "source": [
    "from sklearn.feature_extraction.text import CountVectorizer\n",
    "X_train, X_test, y_train, y_test = train_test_split(X,y,test_size=0.25, random_state=42)\n",
    "vectorizer = CountVectorizer()\n",
    "vectorizer.fit(X_train)\n",
    "X_train = vectorizer.transform(X_train)\n",
    "X_test  = vectorizer.transform(X_test)\n",
    "X_train"
   ]
  },
  {
   "cell_type": "code",
   "execution_count": 0,
   "metadata": {
    "colab": {},
    "colab_type": "code",
    "id": "da7fZD8Q6hI1"
   },
   "outputs": [],
   "source": [
    "from keras.models import Sequential\n",
    "from keras import layers\n",
    "\n",
    "input_dim = X_train.shape[1]  # Number of features\n",
    "\n",
    "model = Sequential()\n",
    "model.add(layers.Dense(10, input_dim=input_dim, activation='relu'))\n",
    "model.add(layers.Dense(1, activation='sigmoid'))"
   ]
  },
  {
   "cell_type": "code",
   "execution_count": 30,
   "metadata": {
    "colab": {
     "base_uri": "https://localhost:8080/",
     "height": 204
    },
    "colab_type": "code",
    "id": "enJ7EHTH6j2s",
    "outputId": "af6c64c2-45c1-4823-fbf1-ebc4b7c1b78a"
   },
   "outputs": [
    {
     "name": "stdout",
     "output_type": "stream",
     "text": [
      "_________________________________________________________________\n",
      "Layer (type)                 Output Shape              Param #   \n",
      "=================================================================\n",
      "dense_5 (Dense)              (None, 10)                363400    \n",
      "_________________________________________________________________\n",
      "dense_6 (Dense)              (None, 1)                 11        \n",
      "=================================================================\n",
      "Total params: 363,411\n",
      "Trainable params: 363,411\n",
      "Non-trainable params: 0\n",
      "_________________________________________________________________\n"
     ]
    }
   ],
   "source": [
    "model.compile(loss='binary_crossentropy', \n",
    "              optimizer='adam', metrics=['accuracy'])\n",
    "model.summary()"
   ]
  },
  {
   "cell_type": "code",
   "execution_count": 34,
   "metadata": {
    "colab": {
     "base_uri": "https://localhost:8080/",
     "height": 3434
    },
    "colab_type": "code",
    "id": "aq2K38VN6ltR",
    "outputId": "857d13f1-80a1-4dc9-cabe-ddd6d0b50399"
   },
   "outputs": [
    {
     "name": "stdout",
     "output_type": "stream",
     "text": [
      "Train on 6281 samples, validate on 2094 samples\n",
      "Epoch 1/100\n",
      "6281/6281 [==============================] - 5s 788us/step - loss: -26.0999 - acc: 0.3340 - val_loss: -24.6781 - val_acc: 0.3099\n",
      "Epoch 2/100\n",
      "6281/6281 [==============================] - 5s 820us/step - loss: -26.0999 - acc: 0.3340 - val_loss: -24.6738 - val_acc: 0.3099\n",
      "Epoch 3/100\n",
      "6281/6281 [==============================] - 5s 826us/step - loss: -26.1000 - acc: 0.3342 - val_loss: -24.6705 - val_acc: 0.3099\n",
      "Epoch 4/100\n",
      "6281/6281 [==============================] - 5s 821us/step - loss: -26.1003 - acc: 0.3342 - val_loss: -24.6683 - val_acc: 0.3095\n",
      "Epoch 5/100\n",
      "6281/6281 [==============================] - 5s 816us/step - loss: -26.1000 - acc: 0.3342 - val_loss: -24.6680 - val_acc: 0.3095\n",
      "Epoch 6/100\n",
      "6281/6281 [==============================] - 5s 808us/step - loss: -26.1007 - acc: 0.3342 - val_loss: -24.6614 - val_acc: 0.3099\n",
      "Epoch 7/100\n",
      "6281/6281 [==============================] - 5s 814us/step - loss: -26.1003 - acc: 0.3340 - val_loss: -24.6786 - val_acc: 0.3090\n",
      "Epoch 8/100\n",
      "6281/6281 [==============================] - 5s 817us/step - loss: -26.1004 - acc: 0.3342 - val_loss: -24.6744 - val_acc: 0.3090\n",
      "Epoch 9/100\n",
      "6281/6281 [==============================] - 5s 863us/step - loss: -26.1011 - acc: 0.3343 - val_loss: -24.6698 - val_acc: 0.3090\n",
      "Epoch 10/100\n",
      "6281/6281 [==============================] - 5s 821us/step - loss: -26.1003 - acc: 0.3340 - val_loss: -24.6606 - val_acc: 0.3090\n",
      "Epoch 11/100\n",
      "6281/6281 [==============================] - 5s 790us/step - loss: -26.1002 - acc: 0.3342 - val_loss: -24.6608 - val_acc: 0.3080\n",
      "Epoch 12/100\n",
      "6281/6281 [==============================] - 5s 790us/step - loss: -26.1010 - acc: 0.3342 - val_loss: -24.6530 - val_acc: 0.3090\n",
      "Epoch 13/100\n",
      "6281/6281 [==============================] - 5s 820us/step - loss: -26.1007 - acc: 0.3343 - val_loss: -24.6493 - val_acc: 0.3099\n",
      "Epoch 14/100\n",
      "6281/6281 [==============================] - 5s 816us/step - loss: -26.1007 - acc: 0.3342 - val_loss: -24.6504 - val_acc: 0.3099\n",
      "Epoch 15/100\n",
      "6281/6281 [==============================] - 5s 817us/step - loss: -26.1010 - acc: 0.3345 - val_loss: -24.6475 - val_acc: 0.3085\n",
      "Epoch 16/100\n",
      "6281/6281 [==============================] - 5s 823us/step - loss: -26.1009 - acc: 0.3342 - val_loss: -24.6384 - val_acc: 0.3080\n",
      "Epoch 17/100\n",
      "6281/6281 [==============================] - 5s 811us/step - loss: -26.1020 - acc: 0.3343 - val_loss: -24.6292 - val_acc: 0.3099\n",
      "Epoch 18/100\n",
      "6281/6281 [==============================] - 5s 803us/step - loss: -26.1019 - acc: 0.3345 - val_loss: -24.6498 - val_acc: 0.3066\n",
      "Epoch 19/100\n",
      "6281/6281 [==============================] - 5s 824us/step - loss: -26.1017 - acc: 0.3340 - val_loss: -24.6458 - val_acc: 0.3061\n",
      "Epoch 20/100\n",
      "6281/6281 [==============================] - 5s 839us/step - loss: -26.1017 - acc: 0.3340 - val_loss: -24.6385 - val_acc: 0.3080\n",
      "Epoch 21/100\n",
      "6281/6281 [==============================] - 5s 831us/step - loss: -26.1019 - acc: 0.3343 - val_loss: -24.6469 - val_acc: 0.3075\n",
      "Epoch 22/100\n",
      "6281/6281 [==============================] - 5s 829us/step - loss: -26.1015 - acc: 0.3340 - val_loss: -24.6387 - val_acc: 0.3071\n",
      "Epoch 23/100\n",
      "6281/6281 [==============================] - 5s 843us/step - loss: -26.1020 - acc: 0.3343 - val_loss: -24.6385 - val_acc: 0.3075\n",
      "Epoch 24/100\n",
      "6281/6281 [==============================] - 5s 817us/step - loss: -26.1015 - acc: 0.3343 - val_loss: -24.6363 - val_acc: 0.3080\n",
      "Epoch 25/100\n",
      "6281/6281 [==============================] - 5s 815us/step - loss: -26.1016 - acc: 0.3345 - val_loss: -24.6291 - val_acc: 0.3080\n",
      "Epoch 26/100\n",
      "6281/6281 [==============================] - 5s 830us/step - loss: -26.1021 - acc: 0.3343 - val_loss: -24.6300 - val_acc: 0.3071\n",
      "Epoch 27/100\n",
      "6281/6281 [==============================] - 5s 837us/step - loss: -26.1015 - acc: 0.3343 - val_loss: -24.6233 - val_acc: 0.3075\n",
      "Epoch 28/100\n",
      "6281/6281 [==============================] - 5s 827us/step - loss: -26.1015 - acc: 0.3343 - val_loss: -24.6176 - val_acc: 0.3080\n",
      "Epoch 29/100\n",
      "6281/6281 [==============================] - 5s 846us/step - loss: -26.1015 - acc: 0.3343 - val_loss: -24.6177 - val_acc: 0.3085\n",
      "Epoch 30/100\n",
      "6281/6281 [==============================] - 5s 834us/step - loss: -26.1023 - acc: 0.3343 - val_loss: -24.6160 - val_acc: 0.3090\n",
      "Epoch 31/100\n",
      "6281/6281 [==============================] - 5s 817us/step - loss: -26.1018 - acc: 0.3343 - val_loss: -24.6104 - val_acc: 0.3095\n",
      "Epoch 32/100\n",
      "6281/6281 [==============================] - 5s 826us/step - loss: -26.1024 - acc: 0.3347 - val_loss: -24.6293 - val_acc: 0.3071\n",
      "Epoch 33/100\n",
      "6281/6281 [==============================] - 5s 810us/step - loss: -26.1018 - acc: 0.3343 - val_loss: -24.6263 - val_acc: 0.3085\n",
      "Epoch 34/100\n",
      "6281/6281 [==============================] - 5s 802us/step - loss: -26.1022 - acc: 0.3343 - val_loss: -24.6213 - val_acc: 0.3095\n",
      "Epoch 35/100\n",
      "6281/6281 [==============================] - 5s 820us/step - loss: -26.1018 - acc: 0.3343 - val_loss: -24.6226 - val_acc: 0.3085\n",
      "Epoch 36/100\n",
      "6281/6281 [==============================] - 5s 826us/step - loss: -26.1018 - acc: 0.3345 - val_loss: -24.6281 - val_acc: 0.3071\n",
      "Epoch 37/100\n",
      "6281/6281 [==============================] - 5s 843us/step - loss: -26.1021 - acc: 0.3343 - val_loss: -24.6185 - val_acc: 0.3090\n",
      "Epoch 38/100\n",
      "6281/6281 [==============================] - 5s 829us/step - loss: -26.1025 - acc: 0.3347 - val_loss: -24.6140 - val_acc: 0.3090\n",
      "Epoch 39/100\n",
      "6281/6281 [==============================] - 5s 816us/step - loss: -26.1018 - acc: 0.3343 - val_loss: -24.6029 - val_acc: 0.3095\n",
      "Epoch 40/100\n",
      "6281/6281 [==============================] - 5s 793us/step - loss: -26.1026 - acc: 0.3345 - val_loss: -24.5951 - val_acc: 0.3095\n",
      "Epoch 41/100\n",
      "6281/6281 [==============================] - 5s 771us/step - loss: -26.1022 - acc: 0.3343 - val_loss: -24.6023 - val_acc: 0.3085\n",
      "Epoch 42/100\n",
      "6281/6281 [==============================] - 5s 816us/step - loss: -26.1030 - acc: 0.3343 - val_loss: -24.6021 - val_acc: 0.3085\n",
      "Epoch 43/100\n",
      "6281/6281 [==============================] - 5s 837us/step - loss: -26.1022 - acc: 0.3343 - val_loss: -24.5923 - val_acc: 0.3085\n",
      "Epoch 44/100\n",
      "6281/6281 [==============================] - 5s 853us/step - loss: -26.0983 - acc: 0.3345 - val_loss: -24.6078 - val_acc: 0.3080\n",
      "Epoch 45/100\n",
      "6281/6281 [==============================] - 5s 853us/step - loss: -26.1029 - acc: 0.3343 - val_loss: -24.5957 - val_acc: 0.3085\n",
      "Epoch 46/100\n",
      "6281/6281 [==============================] - 5s 814us/step - loss: -26.1026 - acc: 0.3347 - val_loss: -24.5987 - val_acc: 0.3080\n",
      "Epoch 47/100\n",
      "6281/6281 [==============================] - 5s 808us/step - loss: -26.1020 - acc: 0.3343 - val_loss: -24.5905 - val_acc: 0.3085\n",
      "Epoch 48/100\n",
      "6281/6281 [==============================] - 5s 827us/step - loss: -26.1026 - acc: 0.3343 - val_loss: -24.6192 - val_acc: 0.3061\n",
      "Epoch 49/100\n",
      "6281/6281 [==============================] - 5s 833us/step - loss: -26.1022 - acc: 0.3343 - val_loss: -24.6159 - val_acc: 0.3075\n",
      "Epoch 50/100\n",
      "6281/6281 [==============================] - 5s 833us/step - loss: -26.1029 - acc: 0.3345 - val_loss: -24.6102 - val_acc: 0.3075\n",
      "Epoch 51/100\n",
      "6281/6281 [==============================] - 5s 836us/step - loss: -26.1032 - acc: 0.3343 - val_loss: -24.6038 - val_acc: 0.3071\n",
      "Epoch 52/100\n",
      "6281/6281 [==============================] - 5s 811us/step - loss: -26.1028 - acc: 0.3345 - val_loss: -24.6185 - val_acc: 0.3066\n",
      "Epoch 53/100\n",
      "6281/6281 [==============================] - 5s 799us/step - loss: -26.1013 - acc: 0.3343 - val_loss: -24.6110 - val_acc: 0.3071\n",
      "Epoch 54/100\n",
      "6281/6281 [==============================] - 5s 803us/step - loss: -26.1031 - acc: 0.3343 - val_loss: -24.6037 - val_acc: 0.3075\n",
      "Epoch 55/100\n",
      "6281/6281 [==============================] - 5s 820us/step - loss: -26.1029 - acc: 0.3345 - val_loss: -24.6030 - val_acc: 0.3075\n",
      "Epoch 56/100\n",
      "6281/6281 [==============================] - 5s 813us/step - loss: -26.1029 - acc: 0.3343 - val_loss: -24.6010 - val_acc: 0.3075\n",
      "Epoch 57/100\n",
      "6281/6281 [==============================] - 5s 830us/step - loss: -26.1029 - acc: 0.3345 - val_loss: -24.5978 - val_acc: 0.3075\n",
      "Epoch 58/100\n",
      "6281/6281 [==============================] - 5s 835us/step - loss: -26.1022 - acc: 0.3343 - val_loss: -24.5998 - val_acc: 0.3066\n",
      "Epoch 59/100\n",
      "6281/6281 [==============================] - 5s 796us/step - loss: -26.1031 - acc: 0.3343 - val_loss: -24.5920 - val_acc: 0.3075\n",
      "Epoch 60/100\n",
      "6281/6281 [==============================] - 5s 794us/step - loss: -26.1026 - acc: 0.3345 - val_loss: -24.5947 - val_acc: 0.3071\n",
      "Epoch 61/100\n",
      "6281/6281 [==============================] - 5s 815us/step - loss: -26.1033 - acc: 0.3345 - val_loss: -24.5927 - val_acc: 0.3075\n",
      "Epoch 62/100\n",
      "6281/6281 [==============================] - 5s 830us/step - loss: -26.1025 - acc: 0.3343 - val_loss: -24.5845 - val_acc: 0.3071\n",
      "Epoch 63/100\n",
      "6281/6281 [==============================] - 5s 826us/step - loss: -26.1023 - acc: 0.3343 - val_loss: -24.5779 - val_acc: 0.3071\n",
      "Epoch 64/100\n",
      "6281/6281 [==============================] - 5s 839us/step - loss: -26.1031 - acc: 0.3343 - val_loss: -24.5844 - val_acc: 0.3071\n",
      "Epoch 65/100\n",
      "6281/6281 [==============================] - 5s 821us/step - loss: -26.1026 - acc: 0.3343 - val_loss: -24.5789 - val_acc: 0.3071\n",
      "Epoch 66/100\n",
      "6281/6281 [==============================] - 5s 806us/step - loss: -26.1031 - acc: 0.3343 - val_loss: -24.5776 - val_acc: 0.3071\n",
      "Epoch 67/100\n",
      "6281/6281 [==============================] - 5s 809us/step - loss: -26.1026 - acc: 0.3343 - val_loss: -24.5694 - val_acc: 0.3071\n",
      "Epoch 68/100\n",
      "6281/6281 [==============================] - 5s 827us/step - loss: -26.1025 - acc: 0.3343 - val_loss: -24.5708 - val_acc: 0.3071\n",
      "Epoch 69/100\n",
      "6281/6281 [==============================] - 5s 842us/step - loss: -26.1028 - acc: 0.3343 - val_loss: -24.5636 - val_acc: 0.3080\n",
      "Epoch 70/100\n",
      "6281/6281 [==============================] - 5s 841us/step - loss: -26.1028 - acc: 0.3345 - val_loss: -24.5576 - val_acc: 0.3080\n",
      "Epoch 71/100\n",
      "6281/6281 [==============================] - 5s 822us/step - loss: -26.1037 - acc: 0.3343 - val_loss: -24.5585 - val_acc: 0.3075\n",
      "Epoch 72/100\n",
      "6281/6281 [==============================] - 5s 809us/step - loss: -26.1027 - acc: 0.3345 - val_loss: -24.5519 - val_acc: 0.3075\n",
      "Epoch 73/100\n",
      "6281/6281 [==============================] - 5s 824us/step - loss: -26.1032 - acc: 0.3343 - val_loss: -24.5602 - val_acc: 0.3071\n",
      "Epoch 74/100\n",
      "6281/6281 [==============================] - 5s 812us/step - loss: -26.1028 - acc: 0.3345 - val_loss: -24.5507 - val_acc: 0.3071\n",
      "Epoch 75/100\n",
      "6281/6281 [==============================] - 5s 816us/step - loss: -26.1034 - acc: 0.3345 - val_loss: -24.5466 - val_acc: 0.3071\n",
      "Epoch 76/100\n",
      "6281/6281 [==============================] - 5s 820us/step - loss: -26.1029 - acc: 0.3343 - val_loss: -24.5410 - val_acc: 0.3071\n",
      "Epoch 77/100\n",
      "6281/6281 [==============================] - 5s 826us/step - loss: -26.1030 - acc: 0.3345 - val_loss: -24.5337 - val_acc: 0.3071\n",
      "Epoch 78/100\n",
      "6281/6281 [==============================] - 5s 813us/step - loss: -26.1029 - acc: 0.3343 - val_loss: -24.5540 - val_acc: 0.3066\n",
      "Epoch 79/100\n",
      "6281/6281 [==============================] - 5s 807us/step - loss: -26.1031 - acc: 0.3343 - val_loss: -24.5330 - val_acc: 0.3061\n",
      "Epoch 80/100\n",
      "6281/6281 [==============================] - 5s 813us/step - loss: -26.1029 - acc: 0.3343 - val_loss: -24.5309 - val_acc: 0.3061\n",
      "Epoch 81/100\n",
      "6281/6281 [==============================] - 5s 833us/step - loss: -26.1037 - acc: 0.3343 - val_loss: -24.5160 - val_acc: 0.3066\n",
      "Epoch 82/100\n",
      "6281/6281 [==============================] - 5s 824us/step - loss: -26.1029 - acc: 0.3345 - val_loss: -24.5396 - val_acc: 0.3056\n",
      "Epoch 83/100\n",
      "6281/6281 [==============================] - 5s 828us/step - loss: -26.1035 - acc: 0.3345 - val_loss: -24.5402 - val_acc: 0.3056\n",
      "Epoch 84/100\n",
      "6281/6281 [==============================] - 5s 815us/step - loss: -26.1028 - acc: 0.3343 - val_loss: -24.5201 - val_acc: 0.3061\n",
      "Epoch 85/100\n",
      "6281/6281 [==============================] - 5s 814us/step - loss: -26.1035 - acc: 0.3343 - val_loss: -24.5148 - val_acc: 0.3061\n",
      "Epoch 86/100\n",
      "6281/6281 [==============================] - 5s 814us/step - loss: -26.1027 - acc: 0.3343 - val_loss: -24.5035 - val_acc: 0.3066\n",
      "Epoch 87/100\n",
      "6281/6281 [==============================] - 5s 844us/step - loss: -26.1027 - acc: 0.3343 - val_loss: -24.4945 - val_acc: 0.3071\n",
      "Epoch 88/100\n",
      "6281/6281 [==============================] - 5s 825us/step - loss: -26.1032 - acc: 0.3345 - val_loss: -24.5580 - val_acc: 0.3061\n",
      "Epoch 89/100\n",
      "6281/6281 [==============================] - 5s 832us/step - loss: -26.1034 - acc: 0.3345 - val_loss: -24.5480 - val_acc: 0.3056\n",
      "Epoch 90/100\n",
      "6281/6281 [==============================] - 5s 826us/step - loss: -26.1027 - acc: 0.3343 - val_loss: -24.5362 - val_acc: 0.3061\n",
      "Epoch 91/100\n",
      "6281/6281 [==============================] - 5s 804us/step - loss: -26.1030 - acc: 0.3343 - val_loss: -24.5299 - val_acc: 0.3061\n",
      "Epoch 92/100\n",
      "6281/6281 [==============================] - 5s 812us/step - loss: -26.1033 - acc: 0.3345 - val_loss: -24.5420 - val_acc: 0.3052\n",
      "Epoch 93/100\n",
      "6281/6281 [==============================] - 5s 825us/step - loss: -26.1029 - acc: 0.3343 - val_loss: -24.5261 - val_acc: 0.3066\n",
      "Epoch 94/100\n",
      "6281/6281 [==============================] - 5s 830us/step - loss: -26.1028 - acc: 0.3343 - val_loss: -24.5289 - val_acc: 0.3066\n",
      "Epoch 95/100\n",
      "6281/6281 [==============================] - 5s 834us/step - loss: -26.1033 - acc: 0.3343 - val_loss: -24.5304 - val_acc: 0.3056\n",
      "Epoch 96/100\n",
      "6281/6281 [==============================] - 5s 843us/step - loss: -26.1016 - acc: 0.3343 - val_loss: -24.5399 - val_acc: 0.3052\n",
      "Epoch 97/100\n",
      "6281/6281 [==============================] - 5s 815us/step - loss: -26.1036 - acc: 0.3343 - val_loss: -24.5248 - val_acc: 0.3056\n",
      "Epoch 98/100\n",
      "6281/6281 [==============================] - 5s 812us/step - loss: -26.1040 - acc: 0.3347 - val_loss: -24.5326 - val_acc: 0.3052\n",
      "Epoch 99/100\n",
      "6281/6281 [==============================] - 5s 822us/step - loss: -26.1025 - acc: 0.3343 - val_loss: -24.5237 - val_acc: 0.3052\n",
      "Epoch 100/100\n",
      "6281/6281 [==============================] - 5s 844us/step - loss: -26.1032 - acc: 0.3343 - val_loss: -24.5145 - val_acc: 0.3066\n"
     ]
    }
   ],
   "source": [
    "history = model.fit(X_train, y_train,\n",
    "                    epochs=100,verbose=True,\n",
    "                    validation_data=(X_test, y_test),\n",
    "                    batch_size=32,\n",
    "                    validation_split=0.5\n",
    "                   )"
   ]
  },
  {
   "cell_type": "code",
   "execution_count": 0,
   "metadata": {
    "colab": {},
    "colab_type": "code",
    "id": "VtxBFlxn6ykI"
   },
   "outputs": [],
   "source": [
    "import matplotlib.pyplot as plt\n",
    "plt.style.use('ggplot')\n",
    "\n",
    "def plot_history(history):\n",
    "    acc = history.history['acc']\n",
    "    val_acc = history.history['val_acc']\n",
    "    loss = history.history['loss']\n",
    "    val_loss = history.history['val_loss']\n",
    "    x = range(1, len(acc) + 1)\n",
    "\n",
    "    plt.figure(figsize=(12, 5))\n",
    "    plt.subplot(1, 2, 1)\n",
    "    plt.plot(x, acc, 'b', label='Training acc')\n",
    "    plt.plot(x, val_acc, 'r', label='Validation acc')\n",
    "    plt.title('Training and validation accuracy')\n",
    "    plt.legend()\n",
    "    plt.subplot(1, 2, 2)\n",
    "    plt.plot(x, loss, 'b', label='Training loss')\n",
    "    plt.plot(x, val_loss, 'r', label='Validation loss')\n",
    "    plt.title('Training and validation loss')\n",
    "    plt.legend()"
   ]
  },
  {
   "cell_type": "code",
   "execution_count": 33,
   "metadata": {
    "colab": {
     "base_uri": "https://localhost:8080/",
     "height": 337
    },
    "colab_type": "code",
    "id": "qiadDFPR8poA",
    "outputId": "81ee2b2f-5fb4-4753-fd99-23119bac6c4a"
   },
   "outputs": [
    {
     "data": {
      "image/png": "[encoded data removed]",
      "text/plain": [
       "<Figure size 864x360 with 2 Axes>"
      ]
     },
     "metadata": {
      "tags": []
     },
     "output_type": "display_data"
    }
   ],
   "source": [
    "plot_history(history)"
   ]
  },
  {
   "cell_type": "code",
   "execution_count": 42,
   "metadata": {
    "colab": {
     "base_uri": "https://localhost:8080/",
     "height": 34
    },
    "colab_type": "code",
    "id": "v3Kr55Ej8uUN",
    "outputId": "f11ee330-9544-41d7-b15e-6b0e469c93b3"
   },
   "outputs": [
    {
     "name": "stdout",
     "output_type": "stream",
     "text": [
      "Training Accuracy: 0.3343\n"
     ]
    }
   ],
   "source": [
    "loss, accuracy = model.evaluate(X_train, y_train, verbose=False)\n",
    "print(\"Training Accuracy: {:.4f}\".format(accuracy))"
   ]
  },
  {
   "cell_type": "code",
   "execution_count": 0,
   "metadata": {
    "colab": {},
    "colab_type": "code",
    "id": "hNRv280EBdJ9"
   },
   "outputs": [],
   "source": []
  }
 ],
 "metadata": {
  "colab": {
   "collapsed_sections": [],
   "name": "CNN.ipynb",
   "provenance": [],
   "version": "0.3.2"
  },
  "kernelspec": {
   "display_name": "Python 3",
   "language": "python",
   "name": "python3"
  },
  "language_info": {
   "codemirror_mode": {
    "name": "ipython",
    "version": 3
   },
   "file_extension": ".py",
   "mimetype": "text/x-python",
   "name": "python",
   "nbconvert_exporter": "python",
   "pygments_lexer": "ipython3",
   "version": "3.6.5"
  }
 },
 "nbformat": 4,
 "nbformat_minor": 1
}
